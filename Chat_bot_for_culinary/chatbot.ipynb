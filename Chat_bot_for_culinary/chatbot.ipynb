{
 "cells": [
  {
   "cell_type": "code",
   "execution_count": null,
   "metadata": {},
   "outputs": [],
   "source": [
    "from recipes.search import search_by_ingredients, filter_recipes_by_type_and_diet\n",
    "import json\n",
    "\n",
    "with open('data.json') as f:\n",
    "    recipes = json.load(f)\n",
    "\n",
    "user_input = input(\"Enter the ingredients separated by commas: \").split(',')\n",
    "user_input = [ingredient.strip() for ingredient in user_input]\n",
    "\n",
    "matching_recipes = search_by_ingredients(user_input, recipes)\n",
    "\n",
    "if not matching_recipes:\n",
    "    print(\"No recipes found.\")\n",
    "else:\n",
    "    for recipe in matching_recipes:\n",
    "        print(f\"Title: {recipe['name']}\")\n",
    "        print(f\"Description: {recipe['description']}\")\n",
    "        print()\n"
   ]
  }
 ],
 "metadata": {
  "language_info": {
   "name": "python"
  }
 },
 "nbformat": 4,
 "nbformat_minor": 2
}
